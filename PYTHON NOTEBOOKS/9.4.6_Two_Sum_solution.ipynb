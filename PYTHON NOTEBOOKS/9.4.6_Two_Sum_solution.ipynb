{
 "cells": [
  {
   "cell_type": "markdown",
   "metadata": {},
   "source": [
    "## Two Sum problem\n",
    "### You have an list of integers, return the indices of the pair of integers that add up to a given target\n",
    "###  Each input has one solution,\n",
    "#### Example [8,6,11,3] target 9 return [1,3]"
   ]
  },
  {
   "cell_type": "code",
   "execution_count": 1,
   "metadata": {},
   "outputs": [],
   "source": [
    "def two_sum(nums, target):\n",
    "        d = {}\n",
    "        \n",
    "           \n",
    "        for i in range(len(nums)):    \n",
    "            if target - nums[i] in d:\n",
    "                print(d)\n",
    "                return [d[target-nums[i]],i]\n",
    "            \n",
    "            d[nums[i]] = i\n",
    "            \n",
    "        return -1"
   ]
  },
  {
   "cell_type": "code",
   "execution_count": 2,
   "metadata": {},
   "outputs": [
    {
     "name": "stdout",
     "output_type": "stream",
     "text": [
      "{8: 0, 6: 1, 11: 2}\n",
      "[1, 3]\n"
     ]
    }
   ],
   "source": [
    "L = [8,6,11,3]\n",
    "print(two_sum(L,9))"
   ]
  },
  {
   "cell_type": "code",
   "execution_count": 3,
   "metadata": {},
   "outputs": [
    {
     "name": "stdout",
     "output_type": "stream",
     "text": [
      "{2: 0, 5: 1, 3: 2}\n",
      "[2, 3]\n"
     ]
    }
   ],
   "source": [
    "L2 = [2,5,3,7,4]\n",
    "print(two_sum(L2,10))"
   ]
  },
  {
   "cell_type": "code",
   "execution_count": 4,
   "metadata": {},
   "outputs": [
    {
     "name": "stdout",
     "output_type": "stream",
     "text": [
      "{3: 0}\n",
      "[0, 1]\n"
     ]
    }
   ],
   "source": [
    "print(two_sum([3, 3], 6))"
   ]
  },
  {
   "cell_type": "code",
   "execution_count": null,
   "metadata": {},
   "outputs": [],
   "source": []
  }
 ],
 "metadata": {
  "kernelspec": {
   "display_name": "Python 3",
   "language": "python",
   "name": "python3"
  },
  "language_info": {
   "codemirror_mode": {
    "name": "ipython",
    "version": 3
   },
   "file_extension": ".py",
   "mimetype": "text/x-python",
   "name": "python",
   "nbconvert_exporter": "python",
   "pygments_lexer": "ipython3",
   "version": "3.7.4"
  }
 },
 "nbformat": 4,
 "nbformat_minor": 2
}
