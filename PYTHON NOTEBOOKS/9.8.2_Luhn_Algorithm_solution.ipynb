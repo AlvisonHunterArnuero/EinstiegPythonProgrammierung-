{
 "cells": [
  {
   "cell_type": "markdown",
   "metadata": {},
   "source": [
    "## Luhn Algorithm\n",
    "### step 1, request input"
   ]
  },
  {
   "cell_type": "code",
   "execution_count": 5,
   "metadata": {},
   "outputs": [
    {
     "name": "stdout",
     "output_type": "stream",
     "text": [
      "Please enter credit card number:> 228347687623\n"
     ]
    }
   ],
   "source": [
    "number = input('Please enter credit card number:> ')"
   ]
  },
  {
   "cell_type": "markdown",
   "metadata": {},
   "source": [
    "## Check validity of number"
   ]
  },
  {
   "cell_type": "code",
   "execution_count": 6,
   "metadata": {},
   "outputs": [
    {
     "name": "stdout",
     "output_type": "stream",
     "text": [
      "228347687623 is a valid credit card number.\n"
     ]
    }
   ],
   "source": [
    "num_list = [int(char) for char in number]\n",
    "num_len = len(num_list)\n",
    "num_list_rev = num_list[::-1]\n",
    "double = 0\n",
    "single = 0\n",
    "for i in range(0,num_len):\n",
    "    if i%2 != 0:\n",
    "        if 2*num_list_rev[i]>9:\n",
    "            double = double + 2*num_list_rev[i] - 9\n",
    "        else:\n",
    "            double = double + 2 * num_list_rev[i]\n",
    "    else:\n",
    "        single = single + num_list_rev[i]\n",
    "\n",
    "if (double+single)%10 == 0:\n",
    "    print(f'{number} is a valid credit card number.')\n",
    "else:\n",
    "    print(f'{number} is not a valid credit card number.')\n"
   ]
  },
  {
   "cell_type": "raw",
   "metadata": {},
   "source": [
    "Credit Card Numbers:\n",
    "\n",
    "\n",
    "371449635398431\n",
    "\n",
    "378734493671000\n",
    "\n",
    "5610591081018250\n",
    "\n",
    "30569309025904\n",
    "\n",
    "38520000023237\n",
    "\n",
    "6011111111111117\n",
    "\n",
    "6011000990139424\n",
    "\n",
    "3530111333300000\n",
    "\n",
    "3566002020360505\n",
    "\n",
    "5555555555554444\n",
    "\n",
    "5105105105105100\n",
    "\n",
    "4111111111111111\n",
    "\n",
    "4012888888881881\n",
    "\n",
    "4222222222222"
   ]
  },
  {
   "cell_type": "code",
   "execution_count": null,
   "metadata": {},
   "outputs": [],
   "source": []
  }
 ],
 "metadata": {
  "kernelspec": {
   "display_name": "Python 3",
   "language": "python",
   "name": "python3"
  },
  "language_info": {
   "codemirror_mode": {
    "name": "ipython",
    "version": 3
   },
   "file_extension": ".py",
   "mimetype": "text/x-python",
   "name": "python",
   "nbconvert_exporter": "python",
   "pygments_lexer": "ipython3",
   "version": "3.7.4"
  }
 },
 "nbformat": 4,
 "nbformat_minor": 2
}
