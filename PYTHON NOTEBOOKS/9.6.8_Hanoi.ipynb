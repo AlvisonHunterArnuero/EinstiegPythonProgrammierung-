{
 "cells": [
  {
   "cell_type": "markdown",
   "metadata": {},
   "source": [
    "### When moving 3 disks from A to C, we move the top two disks to B and then the bottom disk to C. More generally, when moving n disks from A to C we move n-1 disks to B; we then move the base disk from A to C and then move the stack of n-1 on B to C ."
   ]
  },
  {
   "cell_type": "code",
   "execution_count": 7,
   "metadata": {},
   "outputs": [],
   "source": [
    "# We have 3 towers A, B and C or 3 Stacks\n",
    "\n",
    "A = [14,13,12,11,10,9,8,7,6,5,4,3,2,1]\n",
    "B = []\n",
    "C = []"
   ]
  },
  {
   "cell_type": "code",
   "execution_count": 8,
   "metadata": {},
   "outputs": [],
   "source": [
    "# According to our rules, if we want to move all disks 3,2 and 1 from A to C, we first move two disks from A to B. We then move\n",
    "# the base disk from A to C and then the stack of two from B to C\n",
    "count = 0\n",
    "def towers_of_hanoi(A,B,C,n):\n",
    "    global count \n",
    "    \n",
    "    if n == 1:\n",
    "        disk = A.pop()\n",
    "        C.append(disk)\n",
    "        count +=1    \n",
    "    else:\n",
    "        \n",
    "        towers_of_hanoi(A,C,B,n-1)\n",
    "        \n",
    "        towers_of_hanoi(A,B,C,1)\n",
    "        \n",
    "        towers_of_hanoi(B,A,C,n-1)\n",
    "    return count   \n",
    "       "
   ]
  },
  {
   "cell_type": "code",
   "execution_count": 9,
   "metadata": {},
   "outputs": [
    {
     "data": {
      "text/plain": [
       "16383"
      ]
     },
     "execution_count": 9,
     "metadata": {},
     "output_type": "execute_result"
    }
   ],
   "source": [
    "towers_of_hanoi(A,B,C,14)"
   ]
  },
  {
   "cell_type": "code",
   "execution_count": 10,
   "metadata": {},
   "outputs": [
    {
     "data": {
      "text/plain": [
       "[]"
      ]
     },
     "execution_count": 10,
     "metadata": {},
     "output_type": "execute_result"
    }
   ],
   "source": [
    "A"
   ]
  },
  {
   "cell_type": "code",
   "execution_count": 11,
   "metadata": {},
   "outputs": [
    {
     "data": {
      "text/plain": [
       "[]"
      ]
     },
     "execution_count": 11,
     "metadata": {},
     "output_type": "execute_result"
    }
   ],
   "source": [
    "B"
   ]
  },
  {
   "cell_type": "code",
   "execution_count": 12,
   "metadata": {},
   "outputs": [
    {
     "data": {
      "text/plain": [
       "[14, 13, 12, 11, 10, 9, 8, 7, 6, 5, 4, 3, 2, 1]"
      ]
     },
     "execution_count": 12,
     "metadata": {},
     "output_type": "execute_result"
    }
   ],
   "source": [
    "C"
   ]
  },
  {
   "cell_type": "code",
   "execution_count": null,
   "metadata": {},
   "outputs": [],
   "source": []
  }
 ],
 "metadata": {
  "kernelspec": {
   "display_name": "Python 3",
   "language": "python",
   "name": "python3"
  },
  "language_info": {
   "codemirror_mode": {
    "name": "ipython",
    "version": 3
   },
   "file_extension": ".py",
   "mimetype": "text/x-python",
   "name": "python",
   "nbconvert_exporter": "python",
   "pygments_lexer": "ipython3",
   "version": "3.7.4"
  }
 },
 "nbformat": 4,
 "nbformat_minor": 2
}
